{
 "cells": [
  {
   "cell_type": "markdown",
   "id": "45762487-d33f-486d-8e38-2cdea04e3528",
   "metadata": {},
   "source": [
    "# Final Project Report\n",
    "\n",
    "* Class: DS 5100\n",
    "* Student Name: Brian Nolton\n",
    "* Student Net ID: frv3fp\n",
    "* This URL: https://github.com/bnolton/Monte_Carlo_Simulator/blob/main/Monte_Carlo_Simulator/bnolton_DS5100_FinalProject.ipynb"
   ]
  },
  {
   "cell_type": "markdown",
   "id": "acf756c1-ecaa-41dc-b6ca-d566eb94560b",
   "metadata": {},
   "source": [
    "# Instructions\n",
    "\n",
    "Follow the instructions in the Final Project isntructions notebook and put evidence of your work in this notebook.\n",
    "\n",
    "Total points for each subsection under **Deliverables** and **Scenarios** are given in parentheses.\n",
    "\n",
    "Breakdowns of points within subsections are specified within subsection instructions as bulleted lists.\n",
    "\n",
    "This project is worth **50 points**."
   ]
  },
  {
   "cell_type": "markdown",
   "id": "89dc7a32-f682-4402-8c1e-b6ccdb3e0e39",
   "metadata": {},
   "source": [
    "# Deliverables"
   ]
  },
  {
   "cell_type": "markdown",
   "id": "d32cb273-9a40-4909-a7ce-51f6e4958d3c",
   "metadata": {},
   "source": [
    "## The Monte Carlo Module (10)\n",
    "\n",
    "- URL included, appropriately named (1).\n",
    "- Includes all three specified classes (3).\n",
    "- Includes at least all 12 specified methods (6; .5 each)."
   ]
  },
  {
   "cell_type": "markdown",
   "id": "f5f3b070-de9e-4de9-bfae-8974d184aa28",
   "metadata": {},
   "source": [
    "Put the URL to your GitHub repo here.\n",
    "\n",
    "Repo URL:"
   ]
  },
  {
   "cell_type": "markdown",
   "id": "162370fb-3729-4c85-b040-8c25b2c966d2",
   "metadata": {},
   "source": [
    "Paste a copyy of your module here.\n",
    "\n",
    "NOTE: Paste as text, not as code. Use triple backticks to wrap your code blocks."
   ]
  },
  {
   "cell_type": "code",
   "execution_count": null,
   "id": "48fde77d-688d-45a2-a9ba-10046f275abe",
   "metadata": {},
   "outputs": [],
   "source": [
    "'''\n",
    "import numpy as np\n",
    "import pandas as pd\n",
    "\n",
    "\n",
    "class Die():\n",
    "    \"\"\"\n",
    "    A class representing a die with customizable faces and weights.\n",
    "\n",
    "    This class creates a die object that can have arbitrary face values and weights.\n",
    "    The faces must be unique and are stored in a numpy array. Each face has an\n",
    "    associated weight that affects the probability of rolling that face.\n",
    "\n",
    "    Attributes:\n",
    "        sides (numpy.ndarray): Array of unique face values for the die\n",
    "        die (pandas.DataFrame): DataFrame storing faces as index and their weights\n",
    "\n",
    "    Methods:\n",
    "        change_face_weight(face, new_weight): Changes the weight of a specific face\n",
    "        roll_die(r=1): Rolls the die r times and returns results\n",
    "        die_state(): Prints current state of die faces and weights\n",
    "    \"\"\"\n",
    "\n",
    "    def __init__(self, sides):\n",
    "        \"\"\"\n",
    "        Initialize a Die object with given sides.\n",
    "\n",
    "        Parameters:\n",
    "        -----------\n",
    "        sides : numpy.ndarray\n",
    "            Array of unique values representing the faces of the die\n",
    "\n",
    "        Raises:\n",
    "        -------\n",
    "        TypeError\n",
    "            If sides is not a numpy array\n",
    "        ValueError\n",
    "            If the array has repeated sides\n",
    "        \"\"\"\n",
    "\n",
    "        self.sides = sides\n",
    "        # if it is a numpy array#\n",
    "        if isinstance(sides, np.ndarray):\n",
    "            # test for uniqueness#\n",
    "            if len(self.sides) == len(set(self.sides)):\n",
    "                # set up weights variable#\n",
    "                weights = np.array([1])\n",
    "                # make weights same length as sides#\n",
    "                while len(weights) < len(self.sides):\n",
    "                    weights = np.append(weights, 1)\n",
    "                # set up dataframe#\n",
    "                self.die = pd.DataFrame({'Faces': self.sides, 'Weights': weights})\n",
    "                self.die.set_index('Faces', inplace=True)\n",
    "            else:\n",
    "                raise ValueError('The array has repeated sides')\n",
    "        else:\n",
    "            raise TypeError('Sides is not a numpy array')\n",
    "\n",
    "    def change_face_weight(self, face, new_weight):\n",
    "        \"\"\"\n",
    "        Change the weight of a specified face of the die.\n",
    "\n",
    "        Parameters:\n",
    "        -----------\n",
    "        face : any\n",
    "            The face value to modify (must exist in die faces)\n",
    "        new_weight : float\n",
    "            The new weight to assign to the face\n",
    "\n",
    "        Raises:\n",
    "        -------\n",
    "        IndexError\n",
    "            If the specified face is not on the die\n",
    "        TypeError\n",
    "            If the new weight is not numeric\n",
    "        \"\"\"\n",
    "\n",
    "        if face in self.sides:\n",
    "            if new_weight == float(new_weight):\n",
    "                try:\n",
    "                    # Check to see if new_weight is the right value type.#\n",
    "                    new_weight = float(new_weight)\n",
    "                except(ValueError, TypeError):\n",
    "                    raise TypeError('The weight of the face must be numeric')\n",
    "                self.die.loc[face, 'Weights'] = new_weight\n",
    "        else:\n",
    "            raise IndexError('This face is not on the die')\n",
    "\n",
    "    def roll_die(self, r=1):\n",
    "        \"\"\"\n",
    "        Roll the die one or more times.\n",
    "\n",
    "        Parameters:\n",
    "        -----------\n",
    "        r : int, optional\n",
    "            Number of times to roll the die (default is 1)\n",
    "\n",
    "        Returns:\n",
    "        --------\n",
    "        list\n",
    "            Results of the die rolls based on face weights\n",
    "        \"\"\"\n",
    "\n",
    "        probs = self.die['Weights'] / self.die['Weights'].sum()\n",
    "        die_roll = list(np.random.choice(self.die.index, size=r, p=probs))\n",
    "        return die_roll\n",
    "\n",
    "    def die_state(self):\n",
    "        \"\"\"\n",
    "        Show the current state of the die.\n",
    "\n",
    "        Returns:\n",
    "        --------\n",
    "        None\n",
    "            Prints the DataFrame showing faces and their weights\n",
    "        \"\"\"\n",
    "\n",
    "        print(self.die)\n",
    "\n",
    "\n",
    "class Game():\n",
    "    \"\"\"\n",
    "    A class to simulate rolling multiple dice and store the results.\n",
    "\n",
    "    Attributes:\n",
    "        dice (list): A list of Die objects to be used in the game\n",
    "        results (DataFrame): A DataFrame containing the results of the dice rolls, where each column represents a die and each row represents a roll\n",
    "\n",
    "    Methods:\n",
    "        play(n_rolls): Rolls all dice n_rolls times and stores results\n",
    "        show(form): Returns the results in either 'wide' or 'narrow' format\n",
    "    \"\"\"\n",
    "\n",
    "    def __init__(self, dice):\n",
    "        \"\"\"Initialize a new dice game.\n",
    "\n",
    "        Parameters:\n",
    "        -----------\n",
    "        dice : list\n",
    "             A list of Die objects to be used in the game\n",
    "\n",
    "        Returns:\n",
    "        --------\n",
    "        None\n",
    "        \"\"\"\n",
    "\n",
    "        self.dice = dice\n",
    "        self.results = None\n",
    "\n",
    "    def play(self, n_rolls):\n",
    "        \"\"\"Play the dice game by rolling all dice n_rolls times.\n",
    "\n",
    "        Parameters:\n",
    "        -----------\n",
    "        n_rolls : int\n",
    "            The number of times to roll all the dice\n",
    "\n",
    "        Returns:\n",
    "        --------\n",
    "        None\n",
    "            Results are stored in self.results DataFrame\n",
    "        \"\"\"\n",
    "\n",
    "        # Store the results#\n",
    "        results = {f'die_{i}': Die.roll_die(n_rolls)\n",
    "                   for i, Die in enumerate(self.dice, 1)}\n",
    "        # Create DataFrame with roll numbers as index#\n",
    "        self.results = pd.DataFrame(results, index=[f'roll_{i + 1}' for i in range(n_rolls)])\n",
    "\n",
    "    def show(self, form='wide'):\n",
    "        \"\"\"Display the results of the dice game.\n",
    "\n",
    "        Parameters:\n",
    "        -----------\n",
    "        form : str, optional\n",
    "            Format of the results, either 'wide' or 'narrow' (default is 'wide')\n",
    "            - 'wide': Each die roll is a column\n",
    "            - 'narrow': Results are melted into a long format with die number and outcome columns\n",
    "\n",
    "        Returns:\n",
    "        --------\n",
    "        pandas.DataFrame\n",
    "            DataFrame containing the results in the specified format\n",
    "\n",
    "        Raises:\n",
    "        -------\n",
    "        ValueError\n",
    "            If no games have been played or if form is not 'wide' or 'narrow'\n",
    "        \"\"\"\n",
    "\n",
    "        if self.results is None:\n",
    "            raise ValueError(\"No games have been played yet\")\n",
    "\n",
    "        if form.lower() not in ['wide', 'narrow']:\n",
    "            raise ValueError(\"Form must be 'wide' or 'narrow'\")\n",
    "\n",
    "        if form.lower() == 'wide':\n",
    "            return self.results\n",
    "        else:\n",
    "            return self.results.melt(ignore_index=False, var_name='die', value_name='outcome').set_index('die', append=True)\n",
    "\n",
    "\n",
    "class Analyzer:\n",
    "    \"\"\"\n",
    "    A class to analyze the results of a dice game.\n",
    "\n",
    "    This class provides methods to analyze various aspects of dice game results, including counting jackpots (all dice showing same face), counting face occurrences, and analyzing combinations and permutations of dice outcomes.\n",
    "\n",
    "    Methods:\n",
    "        jackpot(): Returns the number of rolls that resulted in all dice showing the same face\n",
    "        face_counts(): Returns a DataFrame showing the count of each face value per roll\n",
    "        combo_count(): Returns counts of unique combinations of faces (order doesn't matter)\n",
    "        permu_count(): Returns counts of unique permutations of faces (order matters)\n",
    "    \"\"\"\n",
    "    def __init__(self, game):\n",
    "        if not isinstance(game, Game):\n",
    "            raise ValueError(\"Input must be a Game object.\")\n",
    "        self.game = game\n",
    "\n",
    "    def jackpot(self):\n",
    "        \"\"\"\n",
    "        Counts the number of rolls where all dice show the same face.\n",
    "\n",
    "        Returns:\n",
    "        --------\n",
    "            int: Number of jackpots (rolls with all matching faces)\n",
    "        \"\"\"\n",
    "        outcome = self.game.show()\n",
    "        return sum(outcome.nunique(axis=1) == 1)\n",
    "\n",
    "    def face_counts(self):\n",
    "        \"\"\"\n",
    "        Computes how many times each face appears in each roll.\n",
    "\n",
    "        Returns:\n",
    "        --------\n",
    "            DataFrame: Index shows roll numbers, columns show possible faces, values show count of each face in that roll\n",
    "        \"\"\"\n",
    "        outcome = self.game.show()\n",
    "        faces = pd.unique(outcome.values.ravel())\n",
    "        counts = pd.DataFrame(index=outcome.index, columns=faces)\n",
    "        for face in faces:\n",
    "            counts[face] = (outcome == face).sum(axis=1)\n",
    "        return counts\n",
    "\n",
    "    def combo_count(self):\n",
    "        \"\"\"\n",
    "        Computes distinct combinations of faces rolled and their frequencies.\n",
    "        Combinations are order-independent (sorted).\n",
    "\n",
    "        Returns:\n",
    "        --------\n",
    "            DataFrame: Index shows distinct combinations, column shows count of occurrences\n",
    "        \"\"\"\n",
    "        outcome = self.game.show()\n",
    "        combos = outcome.apply(lambda x: tuple(sorted(x.values)), axis=1)\n",
    "        return pd.DataFrame(combos.value_counts(), columns=['count'])\n",
    "\n",
    "    def permu_count(self):\n",
    "        \"\"\"\n",
    "        Computes distinct permutations of faces rolled and their frequencies.\n",
    "        Permutations are order-dependent (unsorted).\n",
    "\n",
    "        Returns:\n",
    "        --------\n",
    "            DataFrame: Index shows distinct permutations, column shows count of occurrences\n",
    "        \"\"\"\n",
    "        outcome = self.game.show()\n",
    "        permus = outcome.apply(lambda x: tuple(x.values), axis=1)\n",
    "        return pd.DataFrame(permus.value_counts(), columns=['count'])\n",
    "'''"
   ]
  },
  {
   "cell_type": "markdown",
   "id": "6377727a-8f0a-491e-9f1c-d9dc225edd35",
   "metadata": {},
   "source": [
    "## Unitest Module (2)\n",
    "\n",
    "Paste a copy of your test module below.\n",
    "\n",
    "NOTE: Paste as text, not as code. Use triple backticks to wrap your code blocks.\n",
    "\n",
    "- All methods have at least one test method (1).\n",
    "- Each method employs one of Unittest's Assert methods (1)."
   ]
  },
  {
   "cell_type": "code",
   "execution_count": 2,
   "id": "14b878d8-258b-4cf2-ad88-b8ee90d43977",
   "metadata": {},
   "outputs": [],
   "source": [
    "'''\n",
    "import unittest\n",
    "import pandas as pd\n",
    "import numpy as np\n",
    "from Monte_Carlo_Sim import Die, Game, Analyzer\n",
    "\n",
    "\n",
    "class TestDie(unittest.TestCase):\n",
    "\n",
    "    def test_Die_init(self):\n",
    "        coin = np.array(['H', 'T'])\n",
    "        self.die = Die(coin)\n",
    "        self.assertTrue(isinstance(coin, np.ndarray))\n",
    "        self.assertEqual(len(self.die.die), 2)\n",
    "        self.assertEqual(list(self.die.die.index), ['H', 'T'])\n",
    "\n",
    "    def test_change_face_weight(self):\n",
    "        coin = np.array(['H', 'T'])\n",
    "        self.die = Die(coin)\n",
    "        self.die.change_face_weight('H', 2)\n",
    "        self.assertEqual(self.die.loc[1, 'Weights'], 2)\n",
    "\n",
    "    def test_roll_die(self):\n",
    "        coin = np.array(['H', 'T'])\n",
    "        self.die = Die(coin)\n",
    "        rolls = self.die.roll_die(10)\n",
    "        self.assertEqual(len(rolls), 10)\n",
    "        self.assertTrue(all(face in ['H', 'T'] for face in rolls))\n",
    "\n",
    "\n",
    "class TestGame(unittest.TestCase):\n",
    "\n",
    "    def test_Game_init(self):\n",
    "        coin = np.array(['H', 'T'])\n",
    "        die1 = Die(coin)\n",
    "        die2 = Die(coin)\n",
    "        self.game = Game([die1, die2])\n",
    "        self.assertIsNone(self.game.results)\n",
    "        self.assertEqual(len(self.game.dice), 2)\n",
    "\n",
    "    def test_play(self):\n",
    "        coin = np.array(['H', 'T'])\n",
    "        die1 = Die(coin)\n",
    "        die2 = Die(coin)\n",
    "        self.game = Game([die1, die2])\n",
    "        self.game.play(10)\n",
    "        self.assertIsInstance(self.game.results, pd.DataFrame)\n",
    "        self.assertEqual(len(self.game.results), 10)\n",
    "        self.assertEqual(len(self.game.results.columns), 2)\n",
    "\n",
    "    def test_show_wide(self):\n",
    "        coin = np.array(['H', 'T'])\n",
    "        die1 = Die(coin)\n",
    "        die2 = Die(coin)\n",
    "        self.game = Game([die1, die2])\n",
    "        self.game.play(10)\n",
    "        result = self.game.show('wide')\n",
    "        self.assertIsInstance(result, pd.DataFrame)\n",
    "        self.assertEqual(result.shape, (10, 2))\n",
    "\n",
    "    def test_show_narrow(self):\n",
    "        coin = np.array(['H', 'T'])\n",
    "        die1 = Die(coin)\n",
    "        die2 = Die(coin)\n",
    "        self.game = Game([die1, die2])\n",
    "        self.game.play(10)\n",
    "        result = self.game.show('narrow')\n",
    "        self.assertIsInstance(result, pd.DataFrame)\n",
    "        self.assertEqual(len(result), 20)  # 10 rolls * 2 dice\n",
    "\n",
    "\n",
    "class TestAnalyzer(unittest.TestCase):\n",
    "\n",
    "    def test_init(self):\n",
    "        coin = np.array(['H', 'T'])\n",
    "        die1 = Die(coin)\n",
    "        die2 = Die(coin)\n",
    "        game = Game([die1, die2])\n",
    "        game.play(10)\n",
    "        self.analyzer = Analyzer(game)\n",
    "        with self.assertRaises(ValueError):\n",
    "            Analyzer(\"not a game\")\n",
    "\n",
    "    def test_jackpot(self):\n",
    "        coin = np.array(['H', 'T'])\n",
    "        die1 = Die(coin)\n",
    "        die2 = Die(coin)\n",
    "        game = Game([die1, die2])\n",
    "        game.play(10)\n",
    "        self.analyzer = Analyzer(game)\n",
    "        result = self.analyzer.jackpot()\n",
    "        self.assertIsInstance(result, int)\n",
    "        self.assertTrue(result >= 0)\n",
    "\n",
    "    def test_face_counts(self):\n",
    "        coin = np.array(['H', 'T'])\n",
    "        die1 = Die(coin)\n",
    "        die2 = Die(coin)\n",
    "        game = Game([die1, die2])\n",
    "        game.play(10)\n",
    "        self.analyzer = Analyzer(game)\n",
    "        result = self.analyzer.face_counts()\n",
    "        self.assertIsInstance(result, pd.DataFrame)\n",
    "        self.assertEqual(len(result.columns), 2)  # H and T\n",
    "\n",
    "    def test_combo_count(self):\n",
    "        coin = np.array(['H', 'T'])\n",
    "        die1 = Die(coin)\n",
    "        die2 = Die(coin)\n",
    "        game = Game([die1, die2])\n",
    "        game.play(10)\n",
    "        self.analyzer = Analyzer(game)\n",
    "        result = self.analyzer.combo_count()\n",
    "        self.assertIsInstance(result, pd.DataFrame)\n",
    "        self.assertEqual(len(result.columns), 1)\n",
    "        self.assertTrue('count' in result.columns)\n",
    "\n",
    "    def test_permu_count(self):\n",
    "        coin = np.array(['H', 'T'])\n",
    "        die1 = Die(coin)\n",
    "        die2 = Die(coin)\n",
    "        game = Game([die1, die2])\n",
    "        game.play(10)\n",
    "        self.analyzer = Analyzer(game)\n",
    "        result = self.analyzer.permu_count()\n",
    "        self.assertIsInstance(result, pd.DataFrame)\n",
    "        self.assertEqual(len(result.columns), 1)\n",
    "        self.assertTrue('count' in result.columns)\n",
    "\n",
    "\n",
    "if __name__ == '__main__':\n",
    "    unittest.main()\n",
    "'''"
   ]
  },
  {
   "cell_type": "markdown",
   "id": "3e058d03-29bc-408f-b36d-0605b4f4b8c0",
   "metadata": {
    "tags": []
   },
   "source": [
    "## Unittest Results (3)\n",
    "\n",
    "Put a copy of the results of running your tests from the command line here.\n",
    "\n",
    "Again, paste as text using triple backticks.\n",
    "\n",
    "- All 12 specified methods return OK (3; .25 each)."
   ]
  },
  {
   "cell_type": "code",
   "execution_count": null,
   "id": "beca2407-0961-42fe-b26a-84ceb1a5eeaf",
   "metadata": {},
   "outputs": [],
   "source": [
    "'''\n",
    "bash-4.4$python Monte_Carlo_Sim_Test.py\n",
    "......E.....\n",
    "======================================================================\n",
    "ERROR: test_change_face_weight (__main__.TestDie.test_change_face_weight)\n",
    "----------------------------------------------------------------------\n",
    "Traceback (most recent call last):\n",
    "  File \"/sfs/gpfs/tardis/home/frv3fp/Documents/Monte_Carlo_Simulator/Monte_Carlo_Simulator/Monte_Carlo_Sim_Test.py\", line 20, in test_change_face_weight\n",
    "    self.assertEqual(self.die.loc[1, 'Weights'], 2)\n",
    "                     ^^^^^^^^^^^^\n",
    "AttributeError: 'Die' object has no attribute 'loc'\n",
    "\n",
    "----------------------------------------------------------------------\n",
    "Ran 12 tests in 0.039s\n",
    "\n",
    "FAILED (errors=1)\n",
    "'''"
   ]
  },
  {
   "cell_type": "markdown",
   "id": "d9ffe8c5-eb2f-4ad1-af76-a46550e4c7ac",
   "metadata": {},
   "source": [
    "## Import (1)\n",
    "\n",
    "Import your module here. This import should refer to the code in your package directory.\n",
    "\n",
    "- Module successuflly imported (1)."
   ]
  },
  {
   "cell_type": "code",
   "execution_count": 1,
   "id": "a05dffb3-e6d6-4f78-9df4-5abd0cf74ca9",
   "metadata": {
    "tags": []
   },
   "outputs": [],
   "source": [
    "from Monte_Carlo_Sim import Die, Game, Analyzer"
   ]
  },
  {
   "cell_type": "markdown",
   "id": "f30c4842-65b1-4556-98b6-3fe1a07e1371",
   "metadata": {},
   "source": [
    "## Help Docs (4)\n",
    "\n",
    "Show your docstring documentation by applying `help()` to your imported module.\n",
    "\n",
    "- All methods have a docstring (3; .25 each).\n",
    "- All classes have a docstring (1; .33 each)."
   ]
  },
  {
   "cell_type": "code",
   "execution_count": 2,
   "id": "bf4fbf1f-9885-471c-a0a6-e9ca90e160de",
   "metadata": {
    "tags": []
   },
   "outputs": [
    {
     "name": "stdout",
     "output_type": "stream",
     "text": [
      "Help on class Die in module Monte_Carlo_Sim:\n",
      "\n",
      "class Die(builtins.object)\n",
      " |  Die(sides)\n",
      " |  \n",
      " |  A class representing a die with customizable faces and weights.\n",
      " |  \n",
      " |  This class creates a die object that can have arbitrary face values and weights.\n",
      " |  The faces must be unique and are stored in a numpy array. Each face has an\n",
      " |  associated weight that affects the probability of rolling that face.\n",
      " |  \n",
      " |  Attributes:\n",
      " |      sides (numpy.ndarray): Array of unique face values for the die\n",
      " |      die (pandas.DataFrame): DataFrame storing faces as index and their weights\n",
      " |  \n",
      " |  Methods:\n",
      " |      change_face_weight(face, new_weight): Changes the weight of a specific face\n",
      " |      roll_die(r=1): Rolls the die r times and returns results\n",
      " |      die_state(): Prints current state of die faces and weights\n",
      " |  \n",
      " |  Methods defined here:\n",
      " |  \n",
      " |  __init__(self, sides)\n",
      " |      Initialize a Die object with given sides.\n",
      " |      \n",
      " |      Parameters:\n",
      " |      -----------\n",
      " |      sides : numpy.ndarray\n",
      " |          Array of unique values representing the faces of the die\n",
      " |      \n",
      " |      Raises:\n",
      " |      -------\n",
      " |      TypeError\n",
      " |          If sides is not a numpy array\n",
      " |      ValueError\n",
      " |          If the array has repeated sides\n",
      " |  \n",
      " |  change_face_weight(self, face, new_weight)\n",
      " |      Change the weight of a specified face of the die.\n",
      " |      \n",
      " |      Parameters:\n",
      " |      -----------\n",
      " |      face : any\n",
      " |          The face value to modify (must exist in die faces)\n",
      " |      new_weight : float\n",
      " |          The new weight to assign to the face\n",
      " |      \n",
      " |      Raises:\n",
      " |      -------\n",
      " |      IndexError\n",
      " |          If the specified face is not on the die\n",
      " |      TypeError\n",
      " |          If the new weight is not numeric\n",
      " |  \n",
      " |  die_state(self)\n",
      " |      Show the current state of the die.\n",
      " |      \n",
      " |      Returns:\n",
      " |      --------\n",
      " |      None\n",
      " |          Prints the DataFrame showing faces and their weights\n",
      " |  \n",
      " |  roll_die(self, r=1)\n",
      " |      Roll the die one or more times.\n",
      " |      \n",
      " |      Parameters:\n",
      " |      -----------\n",
      " |      r : int, optional\n",
      " |          Number of times to roll the die (default is 1)\n",
      " |      \n",
      " |      Returns:\n",
      " |      --------\n",
      " |      list\n",
      " |          Results of the die rolls based on face weights\n",
      " |  \n",
      " |  ----------------------------------------------------------------------\n",
      " |  Data descriptors defined here:\n",
      " |  \n",
      " |  __dict__\n",
      " |      dictionary for instance variables (if defined)\n",
      " |  \n",
      " |  __weakref__\n",
      " |      list of weak references to the object (if defined)\n",
      "\n",
      "Help on class Game in module Monte_Carlo_Sim:\n",
      "\n",
      "class Game(builtins.object)\n",
      " |  Game(dice)\n",
      " |  \n",
      " |  A class to simulate rolling multiple dice and store the results.\n",
      " |  \n",
      " |  Attributes:\n",
      " |      dice (list): A list of Die objects to be used in the game\n",
      " |      results (DataFrame): A DataFrame containing the results of the dice rolls, where each column represents a die and each row represents a roll\n",
      " |  \n",
      " |  Methods:\n",
      " |      play(n_rolls): Rolls all dice n_rolls times and stores results\n",
      " |      show(form): Returns the results in either 'wide' or 'narrow' format\n",
      " |  \n",
      " |  Methods defined here:\n",
      " |  \n",
      " |  __init__(self, dice)\n",
      " |      Initialize a new dice game.\n",
      " |      \n",
      " |      Parameters:\n",
      " |      -----------\n",
      " |      dice : list\n",
      " |           A list of Die objects to be used in the game\n",
      " |      \n",
      " |      Returns:\n",
      " |      --------\n",
      " |      None\n",
      " |  \n",
      " |  play(self, n_rolls)\n",
      " |      Play the dice game by rolling all dice n_rolls times.\n",
      " |      \n",
      " |      Parameters:\n",
      " |      -----------\n",
      " |      n_rolls : int\n",
      " |          The number of times to roll all the dice\n",
      " |      \n",
      " |      Returns:\n",
      " |      --------\n",
      " |      None\n",
      " |          Results are stored in self.results DataFrame\n",
      " |  \n",
      " |  show(self, form='wide')\n",
      " |      Display the results of the dice game.\n",
      " |      \n",
      " |      Parameters:\n",
      " |      -----------\n",
      " |      form : str, optional\n",
      " |          Format of the results, either 'wide' or 'narrow' (default is 'wide')\n",
      " |          - 'wide': Each die roll is a column\n",
      " |          - 'narrow': Results are melted into a long format with die number and outcome columns\n",
      " |      \n",
      " |      Returns:\n",
      " |      --------\n",
      " |      pandas.DataFrame\n",
      " |          DataFrame containing the results in the specified format\n",
      " |      \n",
      " |      Raises:\n",
      " |      -------\n",
      " |      ValueError\n",
      " |          If no games have been played or if form is not 'wide' or 'narrow'\n",
      " |  \n",
      " |  ----------------------------------------------------------------------\n",
      " |  Data descriptors defined here:\n",
      " |  \n",
      " |  __dict__\n",
      " |      dictionary for instance variables (if defined)\n",
      " |  \n",
      " |  __weakref__\n",
      " |      list of weak references to the object (if defined)\n",
      "\n",
      "Help on class Analyzer in module Monte_Carlo_Sim:\n",
      "\n",
      "class Analyzer(builtins.object)\n",
      " |  Analyzer(game)\n",
      " |  \n",
      " |  A class to analyze the results of a dice game.\n",
      " |  \n",
      " |  This class provides methods to analyze various aspects of dice game results, including counting jackpots (all dice showing same face), counting face occurrences, and analyzing combinations and permutations of dice outcomes.\n",
      " |  \n",
      " |  Methods:\n",
      " |      jackpot(): Returns the number of rolls that resulted in all dice showing the same face\n",
      " |      face_counts(): Returns a DataFrame showing the count of each face value per roll\n",
      " |      combo_count(): Returns counts of unique combinations of faces (order doesn't matter)\n",
      " |      permu_count(): Returns counts of unique permutations of faces (order matters)\n",
      " |  \n",
      " |  Methods defined here:\n",
      " |  \n",
      " |  __init__(self, game)\n",
      " |      Initialize self.  See help(type(self)) for accurate signature.\n",
      " |  \n",
      " |  combo_count(self)\n",
      " |      Computes distinct combinations of faces rolled and their frequencies.\n",
      " |      Combinations are order-independent (sorted).\n",
      " |      \n",
      " |      Returns:\n",
      " |      --------\n",
      " |          DataFrame: Index shows distinct combinations, column shows count of occurrences\n",
      " |  \n",
      " |  face_counts(self)\n",
      " |      Computes how many times each face appears in each roll.\n",
      " |      \n",
      " |      Returns:\n",
      " |      --------\n",
      " |          DataFrame: Index shows roll numbers, columns show possible faces, values show count of each face in that roll\n",
      " |  \n",
      " |  jackpot(self)\n",
      " |      Counts the number of rolls where all dice show the same face.\n",
      " |      \n",
      " |      Returns:\n",
      " |      --------\n",
      " |          int: Number of jackpots (rolls with all matching faces)\n",
      " |  \n",
      " |  permu_count(self)\n",
      " |      Computes distinct permutations of faces rolled and their frequencies.\n",
      " |      Permutations are order-dependent (unsorted).\n",
      " |      \n",
      " |      Returns:\n",
      " |      --------\n",
      " |          DataFrame: Index shows distinct permutations, column shows count of occurrences\n",
      " |  \n",
      " |  ----------------------------------------------------------------------\n",
      " |  Data descriptors defined here:\n",
      " |  \n",
      " |  __dict__\n",
      " |      dictionary for instance variables (if defined)\n",
      " |  \n",
      " |  __weakref__\n",
      " |      list of weak references to the object (if defined)\n",
      "\n"
     ]
    }
   ],
   "source": [
    "help(Die)\n",
    "help(Game)\n",
    "help(Analyzer)"
   ]
  },
  {
   "cell_type": "markdown",
   "id": "a9defa84-b395-4966-bd1c-5c6c2bb7ed68",
   "metadata": {},
   "source": [
    "## `README.md` File (3)\n",
    "\n",
    "Provide link to the README.md file of your project's repo.\n",
    "\n",
    "- Metadata section or info present (1).\n",
    "- Synopsis section showing how each class is called (1). (All must be included.)\n",
    "- API section listing all classes and methods (1). (All must be included.)"
   ]
  },
  {
   "cell_type": "markdown",
   "id": "ee090b33-d593-48a0-bf35-e739cea0942c",
   "metadata": {},
   "source": [
    "URL: https://github.com/bnolton/Monte_Carlo_Simulator/blob/main/README.md"
   ]
  },
  {
   "cell_type": "markdown",
   "id": "108604c8-8827-42ef-ab59-6b25428fc0ca",
   "metadata": {},
   "source": [
    "## Successful installation (2)\n",
    "\n",
    "Put a screenshot or paste a copy of a terminal session where you successfully install your module with pip.\n",
    "\n",
    "If pasting text, use a preformatted text block to show the results.\n",
    "\n",
    "- Installed with `pip` (1).\n",
    "- Successfully installed message appears (1)."
   ]
  },
  {
   "cell_type": "code",
   "execution_count": 22,
   "id": "014aacdb-a3d2-4a3a-b032-cb6f715d18c1",
   "metadata": {
    "tags": []
   },
   "outputs": [
    {
     "data": {
      "text/plain": [
       "'\\nbash-4.4$pip install .\\nDefaulting to user installation because normal site-packages is not writeable\\nProcessing /sfs/gpfs/tardis/home/frv3fp/Documents/Monte_Carlo_Simulator\\n  Preparing metadata (setup.py) ... done\\nBuilding wheels for collected packages: Monte_Carlo_Simulator\\n  Building wheel for Monte_Carlo_Simulator (setup.py) ... done\\n  Created wheel for Monte_Carlo_Simulator: filename=Monte_Carlo_Simulator-0.1-py3-none-any.whl size=5874 sha256=3a9557500862e5d12edeab5a048ee040fce795f07ebd403df7e6615bec2e779b\\n  Stored in directory: /tmp/pip-ephem-wheel-cache-9gbljw6l/wheels/8a/cb/22/f72bcb83dd5b252fc762e5a2bc4f288cb00ae2e1ce95f7a780\\nSuccessfully built Monte_Carlo_Simulator\\nInstalling collected packages: Monte_Carlo_Simulator\\nSuccessfully installed Monte_Carlo_Simulator-0.1\\n'"
      ]
     },
     "execution_count": 22,
     "metadata": {},
     "output_type": "execute_result"
    }
   ],
   "source": [
    "'''\n",
    "bash-4.4$pip install .\n",
    "Defaulting to user installation because normal site-packages is not writeable\n",
    "Processing /sfs/gpfs/tardis/home/frv3fp/Documents/Monte_Carlo_Simulator\n",
    "  Preparing metadata (setup.py) ... done\n",
    "Building wheels for collected packages: Monte_Carlo_Simulator\n",
    "  Building wheel for Monte_Carlo_Simulator (setup.py) ... done\n",
    "  Created wheel for Monte_Carlo_Simulator: filename=Monte_Carlo_Simulator-0.1-py3-none-any.whl size=5874 sha256=3a9557500862e5d12edeab5a048ee040fce795f07ebd403df7e6615bec2e779b\n",
    "  Stored in directory: /tmp/pip-ephem-wheel-cache-9gbljw6l/wheels/8a/cb/22/f72bcb83dd5b252fc762e5a2bc4f288cb00ae2e1ce95f7a780\n",
    "Successfully built Monte_Carlo_Simulator\n",
    "Installing collected packages: Monte_Carlo_Simulator\n",
    "Successfully installed Monte_Carlo_Simulator-0.1\n",
    "'''"
   ]
  },
  {
   "cell_type": "markdown",
   "id": "7c44695d-d1b3-4edf-9f94-e64d7446f199",
   "metadata": {},
   "source": [
    "# Scenarios\n",
    "\n",
    "Use code blocks to perform the tasks for each scenario.\n",
    "\n",
    "Be sure the outputs are visible before submitting."
   ]
  },
  {
   "cell_type": "code",
   "execution_count": 3,
   "id": "8be32cf0-ff90-4eb2-b4a9-b97ca2ab8210",
   "metadata": {
    "tags": []
   },
   "outputs": [],
   "source": [
    "import numpy as np\n",
    "import pandas as pd\n",
    "import matplotlib.pyplot as plt"
   ]
  },
  {
   "cell_type": "markdown",
   "id": "e2479eae-6fc9-44cd-b8d7-9b22cb501f2a",
   "metadata": {
    "tags": []
   },
   "source": [
    "## Scenario 1: A 2-headed Coin (9)\n",
    "\n",
    "Task 1. Create a fair coin (with faces $H$ and $T$) and one unfair coin in which one of the faces has a weight of $5$ and the others $1$.\n",
    "\n",
    "- Fair coin created (1).\n",
    "- Unfair coin created with weight as specified (1)."
   ]
  },
  {
   "cell_type": "code",
   "execution_count": 4,
   "id": "55ce498e-c75f-4425-9e3e-b635bd6cd9e1",
   "metadata": {
    "tags": []
   },
   "outputs": [],
   "source": [
    "coin = np.array(['H', 'T'])\n",
    "c1 = Die(coin)\n",
    "c2 = Die(coin)\n",
    "c2.change_face_weight('H',5)"
   ]
  },
  {
   "cell_type": "markdown",
   "id": "02b272ab-99da-4b6e-ac2a-555b73e09c07",
   "metadata": {},
   "source": [
    "Task 2. Play a game of $1000$ flips with two fair dice.\n",
    "\n",
    "- Play method called correclty and without error (1)."
   ]
  },
  {
   "cell_type": "code",
   "execution_count": 6,
   "id": "65c92601-d32d-4326-b215-74953aee27f2",
   "metadata": {
    "tags": []
   },
   "outputs": [],
   "source": [
    "cg1 = Game([c1,c2])\n",
    "cg1.play(1000)"
   ]
  },
  {
   "cell_type": "markdown",
   "id": "7d9c3dc8-22c1-4cae-81fb-d68d774a05d1",
   "metadata": {},
   "source": [
    "Task 3. Play another game (using a new Game object) of $1000$ flips, this time using two unfair dice and one fair die. For the second unfair die, you can use the same die object twice in the list of dice you pass to the Game object.\n",
    "\n",
    "- New game object created (1).\n",
    "- Play method called correclty and without error (1)."
   ]
  },
  {
   "cell_type": "code",
   "execution_count": 7,
   "id": "d4098bed-1eb2-4084-8d5e-9fda07c3be43",
   "metadata": {
    "tags": []
   },
   "outputs": [],
   "source": [
    "cg2 = Game([c1,c2,c2])\n",
    "cg2.play(1000)"
   ]
  },
  {
   "cell_type": "markdown",
   "id": "f690ebfc-fe71-4eb2-976d-7ac80ca6c23f",
   "metadata": {},
   "source": [
    "Task 4. For each game, use an Analyzer object to determine the raw frequency of jackpots — i.e. getting either all $H$s or all $T$s.\n",
    "\n",
    "- Analyzer objecs instantiated for both games (1).\n",
    "- Raw frequencies reported for both (1)."
   ]
  },
  {
   "cell_type": "code",
   "execution_count": 8,
   "id": "b26b8b7e-3be7-4476-a9a4-37d97536729e",
   "metadata": {
    "tags": []
   },
   "outputs": [
    {
     "name": "stdout",
     "output_type": "stream",
     "text": [
      "522\n",
      "358\n"
     ]
    }
   ],
   "source": [
    "cg1a = Analyzer(cg1)\n",
    "cg2a = Analyzer(cg2)\n",
    "print(cg1a.jackpot())\n",
    "print(cg2a.jackpot())"
   ]
  },
  {
   "cell_type": "markdown",
   "id": "b73d233c-445e-40cd-8858-0c5e1f097105",
   "metadata": {},
   "source": [
    "Task 5. For each analyzer, compute relative frequency as the number of jackpots over the total number of rolls.\n",
    "\n",
    "- Both relative frequencies computed (1)."
   ]
  },
  {
   "cell_type": "code",
   "execution_count": 9,
   "id": "9a96b31b-1b9d-496e-be3e-4bf83c45ec3a",
   "metadata": {
    "tags": []
   },
   "outputs": [
    {
     "name": "stdout",
     "output_type": "stream",
     "text": [
      "0.522\n",
      "0.358\n"
     ]
    }
   ],
   "source": [
    "cg1j = cg1a.jackpot()/1000\n",
    "cg2j = cg2a.jackpot()/1000\n",
    "print(cg1j)\n",
    "print(cg2j)"
   ]
  },
  {
   "cell_type": "markdown",
   "id": "a6e1e734-7f5c-4721-8ba4-2f3a424cf984",
   "metadata": {},
   "source": [
    "Task 6. Show your results, comparing the two relative frequencies, in a simple bar chart.\n",
    "\n",
    "- Bar chart plotted and correct (1)."
   ]
  },
  {
   "cell_type": "code",
   "execution_count": 10,
   "id": "473fa67c-aa53-4aa3-a0b7-e8772b3f6ed3",
   "metadata": {
    "tags": []
   },
   "outputs": [
    {
     "data": {
      "text/plain": [
       "Text(0.5, 1.0, 'Relative Frequenices of Jackpots')"
      ]
     },
     "execution_count": 10,
     "metadata": {},
     "output_type": "execute_result"
    },
    {
     "data": {
      "image/png": "[encoded data removed]",
      "text/plain": [
       "<Figure size 640x480 with 1 Axes>"
      ]
     },
     "metadata": {},
     "output_type": "display_data"
    }
   ],
   "source": [
    "coingames = ('Coin Game 1', 'Coin Game 2')\n",
    "coinjackpots = {cg1j, cg2j}\n",
    "plt.bar(coingames, coinjackpots)\n",
    "plt.title('Relative Frequenices of Jackpots')"
   ]
  },
  {
   "cell_type": "markdown",
   "id": "725cfa5b-e4b7-47c9-86aa-8d9e1fe6c8c7",
   "metadata": {},
   "source": [
    "## Scenario 2: A 6-sided Die (9)\n",
    "\n",
    "Task 1. Create three dice, each with six sides having the faces 1 through 6.\n",
    "\n",
    "- Three die objects created (1)."
   ]
  },
  {
   "cell_type": "code",
   "execution_count": 11,
   "id": "6a8bc611-325a-4e05-88d5-980e0a2cf7c5",
   "metadata": {
    "tags": []
   },
   "outputs": [],
   "source": [
    "d6 = np.array([1,2,3,4,5,6])\n",
    "d1 = Die(d6)\n",
    "d2 = Die(d6)\n",
    "d3 = Die(d6)"
   ]
  },
  {
   "cell_type": "markdown",
   "id": "2ed3ad26-fbe9-43bd-9ad7-f683a4191d12",
   "metadata": {},
   "source": [
    "Task 2. Convert one of the dice to an unfair one by weighting the face $6$ five times more than the other weights (i.e. it has weight of 5 and the others a weight of 1 each).\n",
    "\n",
    "- Unfair die created with proper call to weight change method (1)."
   ]
  },
  {
   "cell_type": "code",
   "execution_count": 13,
   "id": "e33dd18f-7f90-456d-a680-61c08a328e21",
   "metadata": {
    "tags": []
   },
   "outputs": [],
   "source": [
    "d2.change_face_weight(6,5)"
   ]
  },
  {
   "cell_type": "markdown",
   "id": "7f6c062a-4c5b-45b9-96b8-76a0354c7e47",
   "metadata": {},
   "source": [
    "Task 3. Convert another of the dice to be unfair by weighting the face $1$ five times more than the others.\n",
    "\n",
    "- Unfair die created with proper call to weight change method (1)."
   ]
  },
  {
   "cell_type": "code",
   "execution_count": 14,
   "id": "01133a4e-6b06-4246-8d90-8e6d6995be51",
   "metadata": {
    "tags": []
   },
   "outputs": [],
   "source": [
    "d3.change_face_weight(1,5)"
   ]
  },
  {
   "cell_type": "markdown",
   "id": "f0ed31cb-0a3c-4eb2-b85e-6ed6b2eb6e58",
   "metadata": {},
   "source": [
    "Task 4. Play a game of $10000$ rolls with $5$ fair dice.\n",
    "\n",
    "- Game class properly instantiated (1). \n",
    "- Play method called properly (1)."
   ]
  },
  {
   "cell_type": "code",
   "execution_count": 15,
   "id": "e92395a4-9ed8-4cb0-8c85-38768a784ffc",
   "metadata": {
    "tags": []
   },
   "outputs": [],
   "source": [
    "dg1 = Game([d1,d1,d1,d1,d1])\n",
    "dg1.play(10000)"
   ]
  },
  {
   "cell_type": "markdown",
   "id": "7814b402-46a4-40e5-8141-20e05c3e646b",
   "metadata": {},
   "source": [
    "Task 5. Play another game of $10000$ rolls, this time with $2$ unfair dice, one as defined in steps #2 and #3 respectively, and $3$ fair dice.\n",
    "\n",
    "- Game class properly instantiated (1). \n",
    "- Play method called properly (1)."
   ]
  },
  {
   "cell_type": "code",
   "execution_count": 16,
   "id": "7cd58fba-b2a5-4d5d-bc6d-2a7a68d18c4f",
   "metadata": {
    "tags": []
   },
   "outputs": [],
   "source": [
    "dg2 = Game([d1,d1,d1,d2,d3])\n",
    "dg2.play(1000)"
   ]
  },
  {
   "cell_type": "markdown",
   "id": "7b6cd372-2bb8-4df8-ade1-8f48bc300955",
   "metadata": {},
   "source": [
    "Task 6. For each game, use an Analyzer object to determine the relative frequency of jackpots and show your results, comparing the two relative frequencies, in a simple bar chart.\n",
    "\n",
    "- Jackpot methods called (1).\n",
    "- Graph produced (1)."
   ]
  },
  {
   "cell_type": "code",
   "execution_count": 17,
   "id": "bbdcf695-8937-406e-9b53-aa0b9ee3c59a",
   "metadata": {
    "tags": []
   },
   "outputs": [
    {
     "data": {
      "text/plain": [
       "Text(0.5, 1.0, 'Relative Frequenices of Jackpots')"
      ]
     },
     "execution_count": 17,
     "metadata": {},
     "output_type": "execute_result"
    },
    {
     "data": {
      "image/png": "[encoded data removed]",
      "text/plain": [
       "<Figure size 640x480 with 1 Axes>"
      ]
     },
     "metadata": {},
     "output_type": "display_data"
    }
   ],
   "source": [
    "dg1a = Analyzer(dg1)\n",
    "dg2a = Analyzer(dg2)\n",
    "dg1j = dg1a.jackpot()/10000\n",
    "dg2j = dg2a.jackpot()/10000\n",
    "diegames = ('Dice Game 1', 'Dice Game 2')\n",
    "diejackpots = {dg1j, dg2j}\n",
    "plt.bar(diegames, diejackpots)\n",
    "plt.title('Relative Frequenices of Jackpots')"
   ]
  },
  {
   "cell_type": "markdown",
   "id": "9f04e9be-8fcf-4ea4-a391-6614608285f8",
   "metadata": {},
   "source": [
    "## Scenario 3: Letters of the Alphabet (7)\n",
    "\n",
    "Task 1. Create a \"die\" of letters from $A$ to $Z$ with weights based on their frequency of usage as found in the data file `english_letters.txt`. Use the frequencies (i.e. raw counts) as weights.\n",
    "\n",
    "- Die correctly instantiated with source file data (1).\n",
    "- Weights properly applied using weight setting method (1)."
   ]
  },
  {
   "cell_type": "code",
   "execution_count": 18,
   "id": "b0ceb771-3cdf-4d8f-8c2c-020806bbb909",
   "metadata": {
    "tags": []
   },
   "outputs": [
    {
     "name": "stdout",
     "output_type": "stream",
     "text": [
      "         Weights\n",
      "Faces           \n",
      "E      529117365\n",
      "T      390965105\n",
      "A      374061888\n",
      "O      326627740\n",
      "I      320410057\n",
      "N      313720540\n",
      "S      294300210\n",
      "R      277000841\n",
      "H      216768975\n",
      "L      183996130\n",
      "D      169330528\n",
      "C      138416451\n",
      "U      117295780\n",
      "M      110504544\n",
      "F       95422055\n",
      "G       91258980\n",
      "P       90376747\n",
      "W       79843664\n",
      "Y       75294515\n",
      "B       70195826\n",
      "V       46337161\n",
      "K       35373464\n",
      "J        9613410\n",
      "X        8369915\n",
      "Z        4975847\n",
      "Q        4550166\n"
     ]
    }
   ],
   "source": [
    "letters = pd.read_csv('english_letters.txt', delimiter=' ', header=None)\n",
    "larray = np.array(letters[0])\n",
    "l = Die(larray)\n",
    "for letter, weight in zip(letters[0], letters[1]):\n",
    "    l.change_face_weight(letter, weight)\n",
    "l.die_state()\n",
    "#added the last line so you can see it worked :)#"
   ]
  },
  {
   "cell_type": "markdown",
   "id": "88e2e14a-6223-470a-a2c8-bca1120d7a5b",
   "metadata": {},
   "source": [
    "Task 2. Play a game involving $4$ of these dice with $1000$ rolls.\n",
    "\n",
    "- Game play method properly called (1)."
   ]
  },
  {
   "cell_type": "code",
   "execution_count": 19,
   "id": "2ae087cc-936d-4f1e-bddb-a7c179d139e0",
   "metadata": {
    "tags": []
   },
   "outputs": [],
   "source": [
    "lg1 = Game([l,l,l,l])\n",
    "lg1.play(1000)"
   ]
  },
  {
   "cell_type": "markdown",
   "id": "3b9ff800-bf1f-4f66-9d7f-ff57a648e9f0",
   "metadata": {},
   "source": [
    "Task 3. Determine how many permutations in your results are actual English words, based on the vocabulary found in `scrabble_words.txt`.\n",
    "\n",
    "- Use permutation method (1).\n",
    "- Get count as difference between permutations and vocabulary (1)."
   ]
  },
  {
   "cell_type": "code",
   "execution_count": 20,
   "id": "ed1c7fa0-cfa3-4cf4-9fd0-9f84b86b0f64",
   "metadata": {
    "tags": []
   },
   "outputs": [
    {
     "name": "stdout",
     "output_type": "stream",
     "text": [
      "There are 45 words in game 1.\n"
     ]
    }
   ],
   "source": [
    "word = pd.read_csv('scrabble_words.txt', delimiter=' ', header=None)\n",
    "words = set(word[0])\n",
    "lg1a = Analyzer(lg1)\n",
    "lg1pdf = lg1a.permu_count()\n",
    "lg1p = lg1pdf.index.map(lambda x: ''.join(x))\n",
    "match1 = lg1p[lg1p.isin(words)]\n",
    "print(f\"There are {len(match1)} words in game 1.\")"
   ]
  },
  {
   "cell_type": "markdown",
   "id": "fcf068cf-381a-4b3e-ac3a-0510eb4dbdb0",
   "metadata": {},
   "source": [
    "Task 4. Repeat steps #2 and #3, this time with $5$ dice. How many actual words does this produce? Which produces more?\n",
    "\n",
    "- Successfully repreats steps (1).\n",
    "- Identifies parameter with most found words (1)."
   ]
  },
  {
   "cell_type": "code",
   "execution_count": 21,
   "id": "b045983b-b49b-43b9-bfb4-3aa983e6c991",
   "metadata": {
    "tags": []
   },
   "outputs": [
    {
     "name": "stdout",
     "output_type": "stream",
     "text": [
      "There are 9 words in game 2.\n",
      "There are 36 more words in game 1.\n"
     ]
    }
   ],
   "source": [
    "lg2 = Game([l,l,l,l,l])\n",
    "lg2.play(1000)\n",
    "lg2a = Analyzer(lg2)\n",
    "lg2p = lg2a.permu_count()\n",
    "lg2pdf = lg2a.permu_count()\n",
    "lg2p = lg2pdf.index.map(lambda x: ''.join(x))\n",
    "match2 = lg2p[lg2p.isin(words)]\n",
    "print(f\"There are {len(match2)} words in game 2.\")\n",
    "if len(match1) > len(match2):\n",
    "    print(f\"There are {len(match1) - len(match2)} more words in game 1.\")\n",
    "elif len(match1) < len(match2):\n",
    "    print(f\"There are {len(match2) - len(match1)} more words in game 2.\")\n",
    "else:\n",
    "    print(f\"There are the smae amount of words in game 1 and 2.\")"
   ]
  }
 ],
 "metadata": {
  "kernelspec": {
   "display_name": "Python 3 (ipykernel)",
   "language": "python",
   "name": "python3"
  },
  "language_info": {
   "codemirror_mode": {
    "name": "ipython",
    "version": 3
   },
   "file_extension": ".py",
   "mimetype": "text/x-python",
   "name": "python",
   "nbconvert_exporter": "python",
   "pygments_lexer": "ipython3",
   "version": "3.11.4"
  },
  "toc-autonumbering": true,
  "widgets": {
   "application/vnd.jupyter.widget-state+json": {
    "state": {},
    "version_major": 2,
    "version_minor": 0
   }
  }
 },
 "nbformat": 4,
 "nbformat_minor": 5
}
